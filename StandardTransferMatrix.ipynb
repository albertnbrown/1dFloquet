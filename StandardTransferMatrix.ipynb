{
 "cells": [
  {
   "cell_type": "code",
   "execution_count": 1,
   "metadata": {},
   "outputs": [],
   "source": [
    "import numpy as np\n",
    "import sys\n",
    "import time as t\n",
    "import matplotlib.pyplot as plt\n",
    "\n",
    "#this function calculates T(N) = T_N T_(N-1) .... T_2 T_1\n",
    "#for a specific time point (tau), width of disorder (w), quasienergy (e), and rescaling factor (rescale)\n",
    "def Tpoint(N,tau,w=np.pi,e=0,rescale=1):\n",
    "    #Tmatrix starts as the identity\n",
    "    Tmatrix = np.eye(2,dtype = complex)\n",
    "    #loop over N tmatrices\n",
    "    for l in range(N):\n",
    "        #multiply a new random Tmat as well as a factor of rescaling\n",
    "        Tmatrix = rescale * randomTmat(tau,e,w) @ Tmatrix\n",
    "    return Tmatrix\n",
    "\n",
    "\n",
    "#this function makes the Tmats and is a transcribed version of the form in the thesis\n",
    "def randomTmat(tau,e,w):\n",
    "    #only two random variables are needed which are unique for this Tmat\n",
    "    phiA = np.random.uniform(-w,w)\n",
    "    phiB = np.random.uniform(-w,w)\n",
    "    return np.array([[np.exp(1j*(e + phiA))/np.cos(tau), 1j*np.tan(tau)],\n",
    "                    [-1j*np.exp(1j*(phiA - phiB))*np.tan(tau),np.exp(-1j*(e+phiB))/np.cos(tau)]])\n",
    "\n",
    "\n",
    "#a power law functional form for convenience\n",
    "def powerlaw(x, amp, exp):\n",
    "    return amp * (x**exp)\n",
    "\n"
   ]
  },
  {
   "cell_type": "code",
   "execution_count": 2,
   "metadata": {},
   "outputs": [
    {
     "name": "stdout",
     "output_type": "stream",
     "text": [
      "0.2639861016112959\n",
      "took 41.0406231880188 seconds.\n",
      "[ 390.44837729  508.39170389  696.23966995  926.11870047 1180.64934798\n",
      " 1599.75289933]\n",
      "[0.1        0.08705506 0.07578583 0.0659754  0.05743492 0.05      ]\n"
     ]
    }
   ],
   "source": [
    "#RUN THIS CELL FOR DATA GENERATION\n",
    "temp = t.time() #starting timing of the run\n",
    "\n",
    "#number of times we multiply T together\n",
    "N = 20000\n",
    "\n",
    "#number of runs (data points) per timestep\n",
    "dreal = 20\n",
    "\n",
    "#start, stop, and number of time steps\n",
    "tstart = .1\n",
    "tstop = .05\n",
    "tsteps = 6\n",
    "\n",
    "#time steps are equispaced or log equispaced\n",
    "#tpoints = np.linspace(tstart,tstop,tsteps)\n",
    "tpoints = np.logspace(np.log10(tstart),np.log10(tstop),tsteps)\n",
    "\n",
    "#data will be stored in this variable\n",
    "loclengths = np.zeros(len(tpoints))\n",
    "\n",
    "#the guessed values of the power law relation\n",
    "ConstGuess = 4.6\n",
    "PowGuess = -2.05\n",
    "\n",
    "#the strengths of intersite and onsite disorder (uniform between -W and W)\n",
    "onsiteW = np.pi\n",
    "\n",
    "#a random quasieigenvalue is chosen as it does not matter but I don't want to bias the data\n",
    "qEval = np.random.uniform(-np.pi,np.pi)\n",
    "print(qEval)\n",
    "\n",
    "#this defines a unique identifier for the output files\n",
    "runIdent = str(t.time())[:10]\n",
    "\n",
    "for i in range(len(tpoints)):\n",
    "    #calculating the rescaling factor for the specific timestep\n",
    "    Lguess = powerlaw(tpoints[i],ConstGuess,PowGuess)\n",
    "    rescale = np.exp(-2/Lguess)\n",
    "    \n",
    "    ##opening the file for each timestep\n",
    "    #file_name1 = \"lengths_T_\" + str(tpoints[i]) + \"0_N_\" + str(N) + \"_run_\"+ runIdent + \".txt\" \n",
    "    #f1 = open(file_name1,'x')\n",
    "    \n",
    "    #looped for each data point gathered in each time step\n",
    "    for d in range(dreal):\n",
    "        \n",
    "        ##calculating the final tmatrix\n",
    "        #Tmatrix = Tpoint(N,tpoints[i],onsiteW,qEval)\n",
    "        ##extracting the localization length via max eigenvalue of T\\daggerT\n",
    "        #val = ((np.log(max(np.linalg.eigvalsh(np.conj(np.transpose(Tmatrix))@Tmatrix))))/(4*N))**(-1)\n",
    "        \n",
    "        #calculating the final tmatrix with rescaling\n",
    "        Tmatrix = Tpoint(N,tpoints[i],onsiteW,qEval,rescale)\n",
    "        #calculating the localization length accounting for rescaling\n",
    "        val = ((np.log(max(np.linalg.eigvalsh(np.conj(np.transpose(Tmatrix))@Tmatrix))))/(4*N) + 1/Lguess)**(-1)\n",
    "        \n",
    "        ##writing the value to file\n",
    "        #f1.write(str(val) + \" \")\n",
    "        #calculating the average at this time point\n",
    "        loclengths[i] += val / dreal\n",
    "    #f1.close()\n",
    "\n",
    "#printing the timing data\n",
    "print(\"took \" + str(t.time() - temp) + \" seconds.\")\n",
    "\n",
    "#printing data from the current run\n",
    "print(loclengths)\n",
    "print(tpoints)"
   ]
  },
  {
   "cell_type": "code",
   "execution_count": 3,
   "metadata": {},
   "outputs": [
    {
     "data": {
      "text/plain": [
       "<matplotlib.legend.Legend at 0xc47c41f28>"
      ]
     },
     "execution_count": 3,
     "metadata": {},
     "output_type": "execute_result"
    },
    {
     "data": {
      "image/png": "[encoded data removed]",
      "text/plain": [
       "<matplotlib.figure.Figure at 0xc469bbc50>"
      ]
     },
     "metadata": {
      "needs_background": "light"
     },
     "output_type": "display_data"
    }
   ],
   "source": [
    "#Graphing the data\n",
    "\n",
    "#set how much of the calculated data is plotted\n",
    "fcut = 0\n",
    "bcut = tsteps - 0\n",
    "\n",
    "#create the figure\n",
    "out, sub = plt.subplots(1,figsize=(8,4))\n",
    "sub.set_ylabel(\"ξ\")\n",
    "sub.set_xlabel(\"τ\")\n",
    "sub.set_yscale('log')\n",
    "sub.set_xscale('log')\n",
    "\n",
    "#this plots the data\n",
    "sub = plt.scatter(tpoints[fcut:bcut],loclengths[fcut:bcut],s=14,color=\"orange\",zorder=1)\n",
    "\n",
    "#this plots the best fit line according to existing data\n",
    "sub = plt.plot(np.linspace(tpoints[fcut],tpoints[bcut-1],2),powerlaw(np.linspace(tpoints[fcut],tpoints[bcut-1],2),3.86,-2.01),color=\"green\",zorder=0)\n",
    "\n",
    "out.legend(('Fit','Data'),loc = (0.7,0.55))\n",
    "#out.savefig('TmatData.png', dpi=400)"
   ]
  },
  {
   "cell_type": "code",
   "execution_count": null,
   "metadata": {},
   "outputs": [],
   "source": []
  }
 ],
 "metadata": {
  "kernelspec": {
   "display_name": "Python 3",
   "language": "python",
   "name": "python3"
  },
  "language_info": {
   "codemirror_mode": {
    "name": "ipython",
    "version": 3
   },
   "file_extension": ".py",
   "mimetype": "text/x-python",
   "name": "python",
   "nbconvert_exporter": "python",
   "pygments_lexer": "ipython3",
   "version": "3.6.5"
  }
 },
 "nbformat": 4,
 "nbformat_minor": 2
}
